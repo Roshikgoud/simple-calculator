{
  "nbformat": 4,
  "nbformat_minor": 0,
  "metadata": {
    "colab": {
      "provenance": [],
      "authorship_tag": "ABX9TyOQtyrVyAFwVDLSRULdlM5U",
      "include_colab_link": true
    },
    "kernelspec": {
      "name": "python3",
      "display_name": "Python 3"
    },
    "language_info": {
      "name": "python"
    }
  },
  "cells": [
    {
      "cell_type": "markdown",
      "metadata": {
        "id": "view-in-github",
        "colab_type": "text"
      },
      "source": [
        "<a href=\"https://colab.research.google.com/github/Roshikgoud/simple-calculator/blob/main/Bank%20account.ipynb\" target=\"_parent\"><img src=\"https://colab.research.google.com/assets/colab-badge.svg\" alt=\"Open In Colab\"/></a>"
      ]
    },
    {
      "cell_type": "code",
      "execution_count": null,
      "metadata": {
        "id": "Bl4Dc5SGYHs_",
        "colab": {
          "base_uri": "https://localhost:8080/"
        },
        "outputId": "f902e01b-1f2b-479e-9b49-8eadce1b960d"
      },
      "outputs": [
        {
          "name": "stdout",
          "output_type": "stream",
          "text": [
            "enter  the firsst number:10\n"
          ]
        }
      ],
      "source": [
        "num1=float(input(\"enter  the firsst number:\"))\n",
        "num2=float(input(\"enter the second number:\"))"
      ]
    },
    {
      "cell_type": "code",
      "source": [
        "from google.colab import drive\n",
        "drive.mount('/content/drive')"
      ],
      "metadata": {
        "id": "U-SzvYFQ1J4-"
      },
      "execution_count": null,
      "outputs": []
    },
    {
      "cell_type": "markdown",
      "source": [],
      "metadata": {
        "id": "71RzBuxNShRk"
      }
    },
    {
      "cell_type": "code",
      "source": [
        "sum = num1+num2\n",
        "\n",
        "difference  = num1-num2\n",
        "\n",
        "product = num1*num2\n",
        "\n",
        "quotient = num1/num2\n",
        "\n",
        "print(\"sum:\",sum)\n",
        "print(\"difference:\",difference)\n",
        "print(\"product:\",product)\n",
        "print(\"quotient:\",quotient)"
      ],
      "metadata": {
        "id": "AkFiVacdYaYy"
      },
      "execution_count": null,
      "outputs": []
    },
    {
      "cell_type": "code",
      "source": [
        "str = \"roshik\"\n",
        "for i in str:\n",
        "  print(i)"
      ],
      "metadata": {
        "id": "FwNI6g0mYvZI",
        "colab": {
          "base_uri": "https://localhost:8080/"
        },
        "outputId": "baa0df38-8854-4a8e-8333-8f33294509c8"
      },
      "execution_count": null,
      "outputs": [
        {
          "output_type": "stream",
          "name": "stdout",
          "text": [
            "r\n",
            "o\n",
            "s\n",
            "h\n",
            "i\n",
            "k\n"
          ]
        }
      ]
    },
    {
      "cell_type": "code",
      "source": [
        "for i  in range(5):\n",
        "  print(i)\n"
      ],
      "metadata": {
        "id": "uyUGNgtdYv2Z",
        "colab": {
          "base_uri": "https://localhost:8080/"
        },
        "outputId": "0155d4ab-c9af-47c7-da54-1e519318cb8e"
      },
      "execution_count": null,
      "outputs": [
        {
          "output_type": "stream",
          "name": "stdout",
          "text": [
            "0\n",
            "1\n",
            "2\n",
            "3\n",
            "4\n"
          ]
        }
      ]
    },
    {
      "cell_type": "code",
      "source": [
        "count = 0\n",
        "while count<5:\n",
        "    print(count)\n",
        "    count=count+1"
      ],
      "metadata": {
        "id": "ruDyczf9Yv4x",
        "colab": {
          "base_uri": "https://localhost:8080/"
        },
        "outputId": "171677fc-ce74-4ef7-e102-755e3d90a19c"
      },
      "execution_count": null,
      "outputs": [
        {
          "output_type": "stream",
          "name": "stdout",
          "text": [
            "0\n",
            "1\n",
            "2\n",
            "3\n",
            "4\n"
          ]
        }
      ]
    },
    {
      "cell_type": "code",
      "source": [
        "for i in range(10):\n",
        "  if i == 5:\n",
        "   break\n",
        "  print(i)"
      ],
      "metadata": {
        "id": "lKMPlORRYv6c",
        "colab": {
          "base_uri": "https://localhost:8080/"
        },
        "outputId": "4835a53f-b345-4191-ca2d-277a5e16430e"
      },
      "execution_count": null,
      "outputs": [
        {
          "output_type": "stream",
          "name": "stdout",
          "text": [
            "0\n",
            "1\n",
            "2\n",
            "3\n",
            "4\n"
          ]
        }
      ]
    },
    {
      "cell_type": "code",
      "source": [
        "for num in range(1, 101):\n",
        "    if num > 1:\n",
        "        for i in range(2, num):\n",
        "            if num % i == 0:\n",
        "                break\n",
        "        else:  # This else belongs to the inner for loop\n",
        "            print(num)\n",
        "    else:  # This else belongs to the outer if statement (for num == 1)\n",
        "        print(num)"
      ],
      "metadata": {
        "id": "0Cf-Iz4HYv8Y",
        "colab": {
          "base_uri": "https://localhost:8080/"
        },
        "outputId": "e74e85e2-1ec5-40ef-9e0d-12182e7f899c"
      },
      "execution_count": null,
      "outputs": [
        {
          "output_type": "stream",
          "name": "stdout",
          "text": [
            "1\n",
            "2\n",
            "3\n",
            "5\n",
            "7\n",
            "11\n",
            "13\n",
            "17\n",
            "19\n",
            "23\n",
            "29\n",
            "31\n",
            "37\n",
            "41\n",
            "43\n",
            "47\n",
            "53\n",
            "59\n",
            "61\n",
            "67\n",
            "71\n",
            "73\n",
            "79\n",
            "83\n",
            "89\n",
            "97\n"
          ]
        }
      ]
    },
    {
      "cell_type": "code",
      "source": [
        "tuple = (1,2,3,4,5,6)\n",
        "reversed_tuple = tuple[::-1]\n",
        "print(reversed_tuple)"
      ],
      "metadata": {
        "id": "QiN5aZ0aYv-V",
        "colab": {
          "base_uri": "https://localhost:8080/"
        },
        "outputId": "fcbcc099-eb77-4f5c-f607-1177dbefc257"
      },
      "execution_count": null,
      "outputs": [
        {
          "output_type": "stream",
          "name": "stdout",
          "text": [
            "(6, 5, 4, 3, 2, 1)\n"
          ]
        }
      ]
    },
    {
      "cell_type": "code",
      "source": [
        "def convert_temperature(temp,unit):\n",
        "  if unit == 'c':\n",
        "    return temp*9/5 +32\n",
        "  elif unit =='f':\n",
        "      return(temp-32)*5/9\n",
        "  else:\n",
        "      return none\n",
        "print(convert_temperature(20,'c'))\n",
        "print(convert_temperature(77,'f'))"
      ],
      "metadata": {
        "id": "BcgM96c_YwCR",
        "colab": {
          "base_uri": "https://localhost:8080/"
        },
        "outputId": "2908bc05-c185-49e5-9e81-900e2e510ae5"
      },
      "execution_count": null,
      "outputs": [
        {
          "output_type": "stream",
          "name": "stdout",
          "text": [
            "68.0\n",
            "25.0\n"
          ]
        }
      ]
    },
    {
      "cell_type": "code",
      "source": [
        "def is_strong_password(password):\n",
        "  if len(password) < 8:\n",
        "    return False\n",
        "  if not any(char.isdigit() for char in password):\n",
        "    return False\n",
        "  if not any(char.isupper() for char in password):\n",
        "    return False\n",
        "  if not any(char.islower() for char in password):\n",
        "    return False\n",
        "  if not any(char in '!@#$%^&*()' for char in password):\n",
        "    return False\n",
        "  return True\n",
        "\n",
        "weak = \"password\"\n",
        "strong = \"Strong@123\"\n",
        "\n",
        "print(is_strong_password(weak))\n",
        "print(is_strong_password(strong))"
      ],
      "metadata": {
        "id": "FZYL1RZRYwEU",
        "colab": {
          "base_uri": "https://localhost:8080/"
        },
        "outputId": "9346de0e-409b-4740-9492-16bfa22f64de"
      },
      "execution_count": null,
      "outputs": [
        {
          "output_type": "stream",
          "name": "stdout",
          "text": [
            "False\n",
            "True\n"
          ]
        }
      ]
    },
    {
      "cell_type": "code",
      "source": [
        "numbers1=[1,2,3,4,5]\n",
        "numbers2=[6,7,8,9,10]\n",
        "\n",
        "added_numbers = list(map(lambda x,y :x+y,numbers1,numbers2))\n",
        "print(added_numbers)"
      ],
      "metadata": {
        "id": "Wb-WYlZrYwGR",
        "colab": {
          "base_uri": "https://localhost:8080/"
        },
        "outputId": "3b890bc7-d57b-40a9-c76f-dc7c4f2683fc"
      },
      "execution_count": null,
      "outputs": [
        {
          "output_type": "stream",
          "name": "stdout",
          "text": [
            "[7, 9, 11, 13, 15]\n"
          ]
        }
      ]
    },
    {
      "cell_type": "code",
      "source": [
        "lst=[1,2,3,4,5,6,7,8,9,10,11,12]\n",
        "def is_even(num):\n",
        "    if num%2==0:\n",
        "      return True\n",
        "list(filter(is_even,lst))\n"
      ],
      "metadata": {
        "id": "UmFjE5zdYwIV",
        "colab": {
          "base_uri": "https://localhost:8080/"
        },
        "outputId": "4e363d02-34f7-4eeb-84f8-20fb85e6e358"
      },
      "execution_count": null,
      "outputs": [
        {
          "output_type": "execute_result",
          "data": {
            "text/plain": [
              "[2, 4, 6, 8, 10, 12]"
            ]
          },
          "metadata": {},
          "execution_count": 6
        }
      ]
    },
    {
      "cell_type": "code",
      "source": [
        "import math\n",
        "math.sqrt(16)"
      ],
      "metadata": {
        "id": "qWII5ep-YwKP",
        "colab": {
          "base_uri": "https://localhost:8080/"
        },
        "outputId": "6bbeab17-93af-4a96-d8ba-a59225a14ef2"
      },
      "execution_count": null,
      "outputs": [
        {
          "output_type": "execute_result",
          "data": {
            "text/plain": [
              "4.0"
            ]
          },
          "metadata": {},
          "execution_count": 14
        }
      ]
    },
    {
      "cell_type": "markdown",
      "metadata": {
        "id": "594ff2cb"
      },
      "source": [
        "To install a package, use the following command in a code cell, replacing `package_name` with the name of the package you want to install:"
      ]
    },
    {
      "cell_type": "code",
      "metadata": {
        "colab": {
          "base_uri": "https://localhost:8080/"
        },
        "id": "cf82efa5",
        "outputId": "ceac629e-349c-4124-f5f1-b2391c8258fc"
      },
      "source": [
        "!pip install numpy"
      ],
      "execution_count": null,
      "outputs": [
        {
          "output_type": "stream",
          "name": "stdout",
          "text": [
            "Requirement already satisfied: numpy in /usr/local/lib/python3.12/dist-packages (2.0.2)\n"
          ]
        }
      ]
    },
    {
      "cell_type": "markdown",
      "metadata": {
        "id": "ce06eb33"
      },
      "source": [
        "For example, to install the `numpy` package, you would use:"
      ]
    },
    {
      "cell_type": "code",
      "metadata": {
        "colab": {
          "base_uri": "https://localhost:8080/"
        },
        "id": "a995e4b5",
        "outputId": "7d0dc92f-9ed6-4ff0-b4c6-73f6377d4cc1"
      },
      "source": [
        "import numpy as np\n",
        "np.array([1,2,3,4])"
      ],
      "execution_count": null,
      "outputs": [
        {
          "output_type": "execute_result",
          "data": {
            "text/plain": [
              "array([1, 2, 3, 4])"
            ]
          },
          "metadata": {},
          "execution_count": 19
        }
      ]
    },
    {
      "cell_type": "code",
      "source": [
        "# Writing to a file\n",
        "with open(\"my_file.txt\", \"w\") as f:\n",
        "  f.write(\"Hello, Colab!\\n\")\n",
        "  f.write(\"This is a file operation example.\")\n",
        "\n",
        "# Reading from a file\n",
        "with open(\"my_file.txt\", \"r\") as f:\n",
        "  content = f.read()\n",
        "  print(content)"
      ],
      "metadata": {
        "colab": {
          "base_uri": "https://localhost:8080/"
        },
        "id": "hOa5y2wU3Uz5",
        "outputId": "c789f916-0872-4320-ef0b-ca44257f48d7"
      },
      "execution_count": null,
      "outputs": [
        {
          "output_type": "stream",
          "name": "stdout",
          "text": [
            "Hello, Colab!\n",
            "This is a file operation example.\n"
          ]
        }
      ]
    },
    {
      "cell_type": "code",
      "metadata": {
        "colab": {
          "base_uri": "https://localhost:8080/"
        },
        "id": "a4676654",
        "outputId": "42580d74-caf3-4a5e-9c88-ce4efed9f45e"
      },
      "source": [
        "# Creating and writing to a new file\n",
        "with open(\"new_file.txt\", \"w\") as f:\n",
        "  f.write(\"This is a brand new file!\\n\")\n",
        "  f.write(\"You can add more lines here.\")\n",
        "\n",
        "print(\"hello .\")"
      ],
      "execution_count": null,
      "outputs": [
        {
          "output_type": "stream",
          "name": "stdout",
          "text": [
            "hello .\n"
          ]
        }
      ]
    },
    {
      "cell_type": "code",
      "source": [
        "class BankAccount:\n",
        "    def __init__(self,owner,balance=0):\n",
        "        self.owner=owner\n",
        "        self.balance=balance\n",
        "\n",
        "    def deposit(self,amount):\n",
        "        self.balance+=amount\n",
        "        print(f\"{amount}is deposited into the account.The new balance is {self.balance}\")\n",
        "\n",
        "    def withdraw(self,amount):\n",
        "        if amount>self.balance:\n",
        "            print(\"insufficient funds\")\n",
        "        else:\n",
        "            self.balance-=amount\n",
        "            print(f\"{amount}is withdrawn from the account.The new balance is {self.balance}\")\n",
        "\n",
        "    def get_balance(self):\n",
        "        return self.balance\n",
        "\n",
        "#create an account(object)\n",
        "account=BankAccount(\"roshik\",1000)\n",
        "print(account.owner)\n",
        "print(account.balance)\n",
        "#deposit money\n",
        "account.deposit(500)\n",
        "print(account.get_balance())\n",
        "#withdraw money\n",
        "account.withdraw(200)\n",
        "print(account.get_balance())"
      ],
      "metadata": {
        "id": "VyxO8HBt3Ux_",
        "colab": {
          "base_uri": "https://localhost:8080/"
        },
        "outputId": "f62ca05a-c1cb-476b-fb3d-38f40d8788c3"
      },
      "execution_count": 10,
      "outputs": [
        {
          "output_type": "stream",
          "name": "stdout",
          "text": [
            "roshik\n",
            "1000\n",
            "500is deposited into the account.The new balance is 1500\n",
            "1500\n",
            "200is withdrawn from the account.The new balance is 1300\n",
            "1300\n"
          ]
        }
      ]
    },
    {
      "cell_type": "code",
      "source": [],
      "metadata": {
        "id": "CFq4gjmc3UwE"
      },
      "execution_count": null,
      "outputs": []
    },
    {
      "cell_type": "code",
      "source": [],
      "metadata": {
        "id": "ZDMEL_ow3UuN"
      },
      "execution_count": null,
      "outputs": []
    },
    {
      "cell_type": "code",
      "source": [],
      "metadata": {
        "id": "p0mF88lH3UsB"
      },
      "execution_count": null,
      "outputs": []
    },
    {
      "cell_type": "code",
      "source": [],
      "metadata": {
        "id": "90BzjToB3UqH"
      },
      "execution_count": null,
      "outputs": []
    },
    {
      "cell_type": "code",
      "source": [],
      "metadata": {
        "id": "HaCj9_IB3UoP"
      },
      "execution_count": null,
      "outputs": []
    },
    {
      "cell_type": "code",
      "source": [],
      "metadata": {
        "id": "LTt62RUv3UmP"
      },
      "execution_count": null,
      "outputs": []
    },
    {
      "cell_type": "code",
      "source": [],
      "metadata": {
        "id": "z9EPT1Kr3UkN"
      },
      "execution_count": null,
      "outputs": []
    },
    {
      "cell_type": "code",
      "source": [],
      "metadata": {
        "id": "XndGoTJQ3UiY"
      },
      "execution_count": null,
      "outputs": []
    },
    {
      "cell_type": "code",
      "source": [],
      "metadata": {
        "id": "kid3MgQW3Uey"
      },
      "execution_count": null,
      "outputs": []
    },
    {
      "cell_type": "code",
      "source": [],
      "metadata": {
        "id": "JPAShCob3Ubf"
      },
      "execution_count": null,
      "outputs": []
    },
    {
      "cell_type": "code",
      "source": [],
      "metadata": {
        "id": "30OYMd9E3UZf"
      },
      "execution_count": null,
      "outputs": []
    },
    {
      "cell_type": "code",
      "source": [],
      "metadata": {
        "id": "9fNr4pAU3UXO"
      },
      "execution_count": null,
      "outputs": []
    }
  ]
}