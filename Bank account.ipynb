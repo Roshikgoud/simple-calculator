class BankAccount:
    def __init__(self,owner,balance=0):
        self.owner=owner
        self.balance=balance

    def deposit(self,amount):
        self.balance+=amount
        print(f"{amount}is deposited into the account.The new balance is {self.balance}")

    def withdraw(self,amount):
        if amount>self.balance:
            print("insufficient funds")
        else:
            self.balance-=amount
            print(f"{amount}is withdrawn from the account.The new balance is {self.balance}")

    def get_balance(self):
        return self.balance

#create an account(object)
account=BankAccount("roshik",1000)
print(account.owner)
print(account.balance)
#deposit money
account.deposit(500)
print(account.get_balance())
#withdraw money
account.withdraw(200)
print(account.get_balance())
     
roshik
1000
500is deposited into the account.The new balance is 1500
1500
200is withdrawn from the account.The new balance is 1300
1300
